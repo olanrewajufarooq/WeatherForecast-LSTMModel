{
 "cells": [
  {
   "cell_type": "markdown",
   "metadata": {},
   "source": [
    "# Weather Forecast - Modelling"
   ]
  },
  {
   "cell_type": "markdown",
   "metadata": {},
   "source": [
    "## Import Data for Modelling"
   ]
  },
  {
   "cell_type": "markdown",
   "metadata": {},
   "source": [
    "Import Libraries"
   ]
  },
  {
   "cell_type": "code",
   "execution_count": 1,
   "metadata": {},
   "outputs": [],
   "source": [
    "import numpy as np\n",
    "import pandas as pd\n",
    "from matplotlib import pyplot as plt\n",
    "import seaborn as sb"
   ]
  },
  {
   "cell_type": "markdown",
   "metadata": {},
   "source": [
    "Importing Data"
   ]
  },
  {
   "cell_type": "code",
   "execution_count": 2,
   "metadata": {
    "scrolled": true
   },
   "outputs": [
    {
     "data": {
      "text/html": [
       "<div>\n",
       "<style scoped>\n",
       "    .dataframe tbody tr th:only-of-type {\n",
       "        vertical-align: middle;\n",
       "    }\n",
       "\n",
       "    .dataframe tbody tr th {\n",
       "        vertical-align: top;\n",
       "    }\n",
       "\n",
       "    .dataframe thead th {\n",
       "        text-align: right;\n",
       "    }\n",
       "</style>\n",
       "<table border=\"1\" class=\"dataframe\">\n",
       "  <thead>\n",
       "    <tr style=\"text-align: right;\">\n",
       "      <th></th>\n",
       "      <th>Date</th>\n",
       "      <th>Atmospheric Pressure</th>\n",
       "      <th>Minimum Temperature</th>\n",
       "      <th>Maximum Temperature</th>\n",
       "      <th>Relative Humidity</th>\n",
       "      <th>Wind Speed</th>\n",
       "    </tr>\n",
       "  </thead>\n",
       "  <tbody>\n",
       "    <tr>\n",
       "      <th>0</th>\n",
       "      <td>2018-01-01</td>\n",
       "      <td>1019.5</td>\n",
       "      <td>16.3</td>\n",
       "      <td>26.1</td>\n",
       "      <td>25.333333</td>\n",
       "      <td>9.666667</td>\n",
       "    </tr>\n",
       "    <tr>\n",
       "      <th>1</th>\n",
       "      <td>2018-01-02</td>\n",
       "      <td>1019.6</td>\n",
       "      <td>16.1</td>\n",
       "      <td>27.4</td>\n",
       "      <td>27.583333</td>\n",
       "      <td>12.000000</td>\n",
       "    </tr>\n",
       "    <tr>\n",
       "      <th>2</th>\n",
       "      <td>2018-01-03</td>\n",
       "      <td>1019.9</td>\n",
       "      <td>15.7</td>\n",
       "      <td>27.2</td>\n",
       "      <td>24.416667</td>\n",
       "      <td>11.666667</td>\n",
       "    </tr>\n",
       "    <tr>\n",
       "      <th>3</th>\n",
       "      <td>2018-01-04</td>\n",
       "      <td>1021.4</td>\n",
       "      <td>16.0</td>\n",
       "      <td>29.0</td>\n",
       "      <td>27.166667</td>\n",
       "      <td>12.333333</td>\n",
       "    </tr>\n",
       "    <tr>\n",
       "      <th>4</th>\n",
       "      <td>2018-01-05</td>\n",
       "      <td>1021.2</td>\n",
       "      <td>14.2</td>\n",
       "      <td>26.9</td>\n",
       "      <td>29.916667</td>\n",
       "      <td>12.333333</td>\n",
       "    </tr>\n",
       "  </tbody>\n",
       "</table>\n",
       "</div>"
      ],
      "text/plain": [
       "         Date  Atmospheric Pressure  Minimum Temperature  Maximum Temperature  \\\n",
       "0  2018-01-01                1019.5                 16.3                 26.1   \n",
       "1  2018-01-02                1019.6                 16.1                 27.4   \n",
       "2  2018-01-03                1019.9                 15.7                 27.2   \n",
       "3  2018-01-04                1021.4                 16.0                 29.0   \n",
       "4  2018-01-05                1021.2                 14.2                 26.9   \n",
       "\n",
       "   Relative Humidity  Wind Speed  \n",
       "0          25.333333    9.666667  \n",
       "1          27.583333   12.000000  \n",
       "2          24.416667   11.666667  \n",
       "3          27.166667   12.333333  \n",
       "4          29.916667   12.333333  "
      ]
     },
     "execution_count": 2,
     "metadata": {},
     "output_type": "execute_result"
    }
   ],
   "source": [
    "filename = 'modelling_data.csv'\n",
    "data_df = pd.read_csv(filename)\n",
    "data_df.head()"
   ]
  },
  {
   "cell_type": "markdown",
   "metadata": {},
   "source": [
    "Computing the Mean Temperature"
   ]
  },
  {
   "cell_type": "code",
   "execution_count": 3,
   "metadata": {},
   "outputs": [
    {
     "data": {
      "text/html": [
       "<div>\n",
       "<style scoped>\n",
       "    .dataframe tbody tr th:only-of-type {\n",
       "        vertical-align: middle;\n",
       "    }\n",
       "\n",
       "    .dataframe tbody tr th {\n",
       "        vertical-align: top;\n",
       "    }\n",
       "\n",
       "    .dataframe thead th {\n",
       "        text-align: right;\n",
       "    }\n",
       "</style>\n",
       "<table border=\"1\" class=\"dataframe\">\n",
       "  <thead>\n",
       "    <tr style=\"text-align: right;\">\n",
       "      <th></th>\n",
       "      <th>Date</th>\n",
       "      <th>Atmospheric Pressure</th>\n",
       "      <th>Minimum Temperature</th>\n",
       "      <th>Maximum Temperature</th>\n",
       "      <th>Relative Humidity</th>\n",
       "      <th>Wind Speed</th>\n",
       "      <th>Mean Temperature</th>\n",
       "    </tr>\n",
       "  </thead>\n",
       "  <tbody>\n",
       "    <tr>\n",
       "      <th>0</th>\n",
       "      <td>2018-01-01</td>\n",
       "      <td>1019.5</td>\n",
       "      <td>16.3</td>\n",
       "      <td>26.1</td>\n",
       "      <td>25.333333</td>\n",
       "      <td>9.666667</td>\n",
       "      <td>21.20</td>\n",
       "    </tr>\n",
       "    <tr>\n",
       "      <th>1</th>\n",
       "      <td>2018-01-02</td>\n",
       "      <td>1019.6</td>\n",
       "      <td>16.1</td>\n",
       "      <td>27.4</td>\n",
       "      <td>27.583333</td>\n",
       "      <td>12.000000</td>\n",
       "      <td>21.75</td>\n",
       "    </tr>\n",
       "    <tr>\n",
       "      <th>2</th>\n",
       "      <td>2018-01-03</td>\n",
       "      <td>1019.9</td>\n",
       "      <td>15.7</td>\n",
       "      <td>27.2</td>\n",
       "      <td>24.416667</td>\n",
       "      <td>11.666667</td>\n",
       "      <td>21.45</td>\n",
       "    </tr>\n",
       "    <tr>\n",
       "      <th>3</th>\n",
       "      <td>2018-01-04</td>\n",
       "      <td>1021.4</td>\n",
       "      <td>16.0</td>\n",
       "      <td>29.0</td>\n",
       "      <td>27.166667</td>\n",
       "      <td>12.333333</td>\n",
       "      <td>22.50</td>\n",
       "    </tr>\n",
       "    <tr>\n",
       "      <th>4</th>\n",
       "      <td>2018-01-05</td>\n",
       "      <td>1021.2</td>\n",
       "      <td>14.2</td>\n",
       "      <td>26.9</td>\n",
       "      <td>29.916667</td>\n",
       "      <td>12.333333</td>\n",
       "      <td>20.55</td>\n",
       "    </tr>\n",
       "  </tbody>\n",
       "</table>\n",
       "</div>"
      ],
      "text/plain": [
       "         Date  Atmospheric Pressure  Minimum Temperature  Maximum Temperature  \\\n",
       "0  2018-01-01                1019.5                 16.3                 26.1   \n",
       "1  2018-01-02                1019.6                 16.1                 27.4   \n",
       "2  2018-01-03                1019.9                 15.7                 27.2   \n",
       "3  2018-01-04                1021.4                 16.0                 29.0   \n",
       "4  2018-01-05                1021.2                 14.2                 26.9   \n",
       "\n",
       "   Relative Humidity  Wind Speed  Mean Temperature  \n",
       "0          25.333333    9.666667             21.20  \n",
       "1          27.583333   12.000000             21.75  \n",
       "2          24.416667   11.666667             21.45  \n",
       "3          27.166667   12.333333             22.50  \n",
       "4          29.916667   12.333333             20.55  "
      ]
     },
     "execution_count": 3,
     "metadata": {},
     "output_type": "execute_result"
    }
   ],
   "source": [
    "data_df['Mean Temperature'] = pd.Series(np.mean([data_df['Minimum Temperature'], data_df['Maximum Temperature']], axis=0))\n",
    "data_df.head()"
   ]
  },
  {
   "cell_type": "code",
   "execution_count": 4,
   "metadata": {},
   "outputs": [
    {
     "data": {
      "text/plain": [
       "(1096, 7)"
      ]
     },
     "execution_count": 4,
     "metadata": {},
     "output_type": "execute_result"
    }
   ],
   "source": [
    "data_df.shape"
   ]
  },
  {
   "cell_type": "markdown",
   "metadata": {
    "tags": []
   },
   "source": [
    "## LSTM - Weather Forecasting"
   ]
  },
  {
   "cell_type": "code",
   "execution_count": 5,
   "metadata": {},
   "outputs": [
    {
     "name": "stderr",
     "output_type": "stream",
     "text": [
      "Using TensorFlow backend.\n"
     ]
    }
   ],
   "source": [
    "from keras.models import Sequential\n",
    "from keras.layers import Dense, LSTM, Flatten, Dropout, BatchNormalization, Bidirectional, Conv1D\n",
    "\n",
    "from sklearn.preprocessing import MinMaxScaler, StandardScaler, normalize\n",
    "from sklearn.metrics import r2_score, mean_squared_error\n",
    "\n",
    "from keras.layers import ConvLSTM2D"
   ]
  },
  {
   "cell_type": "markdown",
   "metadata": {},
   "source": [
    "Convert DataFrame to Numpy Array"
   ]
  },
  {
   "cell_type": "code",
   "execution_count": 6,
   "metadata": {},
   "outputs": [
    {
     "data": {
      "text/plain": [
       "((1096, 6), dtype('float64'), (1096,))"
      ]
     },
     "execution_count": 6,
     "metadata": {},
     "output_type": "execute_result"
    }
   ],
   "source": [
    "date_series = data_df['Date']\n",
    "data_array = data_df.iloc[:, 1:].values\n",
    "data_array.shape, data_array.dtype, date_series.shape"
   ]
  },
  {
   "cell_type": "markdown",
   "metadata": {},
   "source": [
    "Scaling of Dataset to avoid gradient explosion. \n",
    "\n",
    "__N.B:__ One importance of fit-transform is that the scaling can easily be inverted."
   ]
  },
  {
   "cell_type": "code",
   "execution_count": 7,
   "metadata": {},
   "outputs": [
    {
     "data": {
      "text/plain": [
       "((1096, 6), dtype('float64'))"
      ]
     },
     "execution_count": 7,
     "metadata": {},
     "output_type": "execute_result"
    }
   ],
   "source": [
    "scaler = MinMaxScaler(feature_range=(0, 1))\n",
    "scaler = scaler.fit(data_array)\n",
    "data_array = scaler.transform(data_array)\n",
    "data_array.shape, data_array.dtype"
   ]
  },
  {
   "cell_type": "markdown",
   "metadata": {},
   "source": [
    "Preparing the training and testing data for LSTM"
   ]
  },
  {
   "cell_type": "code",
   "execution_count": 8,
   "metadata": {},
   "outputs": [],
   "source": [
    "def train_test_data_for_lstm(data, n_past, n_future=1, test_num=30, view_shape=False):\n",
    "    \"\"\"\n",
    "    Function to determine the training and testing data for a recurrent neural network modelling.\n",
    "    \n",
    "    Input:\n",
    "    data - numpy array of the data to be modelled\n",
    "    n-past - the number of days in the past to be utilised for modelling\n",
    "    n-future - the date in the future to be predicted.\n",
    "    test_num - the number of days that would be used for model testing\n",
    "    \n",
    "    Output:\n",
    "    train- a tuple containing the training features\n",
    "    train - a tuple containing the training targets\n",
    "    \"\"\"\n",
    "    \n",
    "    # Define list to store X and Y datasets\n",
    "    X = []\n",
    "    Y = []\n",
    "    \n",
    "    for i in range(n_past, len(data) - n_future +1):\n",
    "        X.append(data[i - n_past:i, 0:data.shape[1] - 1])\n",
    "        Y.append(data[i + n_future - 1:i + n_future, data.shape[1] - 1])\n",
    "\n",
    "    # Converting list to numpy array\n",
    "    X, Y = np.array(X), np.array(Y)\n",
    "    \n",
    "    # Train-Test Split\n",
    "    trainX = X[0:-test_num,:]\n",
    "    testX = X[-test_num:len(data),:]\n",
    "    \n",
    "    trainY = Y[0:-test_num,:]\n",
    "    testY = Y[-test_num:len(data),:]\n",
    "    \n",
    "    if view_shape:\n",
    "        print('data shape == {}.'.format(data.shape))\n",
    "        \n",
    "        print('trainX shape == {}.'.format(trainX.shape))\n",
    "        print('trainY shape == {}.'.format(trainY.shape))\n",
    "        \n",
    "        print('testX shape == {}.'.format(testX.shape))\n",
    "        print('testY shape == {}.'.format(testY.shape))\n",
    "        \n",
    "    return (trainX, trainY), (testX, testY)   "
   ]
  },
  {
   "cell_type": "code",
   "execution_count": 9,
   "metadata": {},
   "outputs": [
    {
     "name": "stdout",
     "output_type": "stream",
     "text": [
      "data shape == (1096, 6).\n",
      "trainX shape == (1045, 21, 5).\n",
      "trainY shape == (1045, 1).\n",
      "testX shape == (30, 21, 5).\n",
      "testY shape == (30, 1).\n"
     ]
    }
   ],
   "source": [
    "(trainX, trainY), (testX, testY) = train_test_data_for_lstm(data_array, 21, 1, 30, True)"
   ]
  },
  {
   "cell_type": "code",
   "execution_count": 10,
   "metadata": {},
   "outputs": [
    {
     "name": "stdout",
     "output_type": "stream",
     "text": [
      "Model: \"sequential_1\"\n",
      "_________________________________________________________________\n",
      "Layer (type)                 Output Shape              Param #   \n",
      "=================================================================\n",
      "conv1d_1 (Conv1D)            (None, 21, 32)            512       \n",
      "_________________________________________________________________\n",
      "bidirectional_1 (Bidirection (None, 21, 100)           33200     \n",
      "_________________________________________________________________\n",
      "bidirectional_2 (Bidirection (None, 21, 100)           60400     \n",
      "_________________________________________________________________\n",
      "bidirectional_3 (Bidirection (None, 100)               60400     \n",
      "_________________________________________________________________\n",
      "dropout_1 (Dropout)          (None, 100)               0         \n",
      "_________________________________________________________________\n",
      "dense_1 (Dense)              (None, 50)                5050      \n",
      "_________________________________________________________________\n",
      "dropout_2 (Dropout)          (None, 50)                0         \n",
      "_________________________________________________________________\n",
      "dense_2 (Dense)              (None, 25)                1275      \n",
      "_________________________________________________________________\n",
      "dropout_3 (Dropout)          (None, 25)                0         \n",
      "_________________________________________________________________\n",
      "dense_3 (Dense)              (None, 1)                 26        \n",
      "=================================================================\n",
      "Total params: 160,863\n",
      "Trainable params: 160,863\n",
      "Non-trainable params: 0\n",
      "_________________________________________________________________\n"
     ]
    }
   ],
   "source": [
    "model = Sequential()\n",
    "model.add(Conv1D(filters=32, kernel_size=3, strides=1, padding=\"causal\", activation=\"relu\", input_shape=(trainX.shape[1], trainX.shape[2])))\n",
    "model.add(Bidirectional(LSTM(50, activation='relu', return_sequences=True)))\n",
    "model.add(Bidirectional(LSTM(50, activation='relu', return_sequences=True)))\n",
    "model.add(Bidirectional(LSTM(50, activation='relu', return_sequences=False)))\n",
    "model.add(Dropout(0.2))\n",
    "model.add(Dense(50))\n",
    "model.add(Dropout(0.2))\n",
    "model.add(Dense(25))\n",
    "model.add(Dropout(0.2))\n",
    "model.add(Dense(trainY.shape[1]))\n",
    "model.compile(optimizer='adam', loss='mse')\n",
    "model.summary()"
   ]
  },
  {
   "cell_type": "raw",
   "metadata": {},
   "source": [
    "model = Sequential()\n",
    "model.add(LSTM(64, activation='relu', input_shape=(trainX.shape[1], trainX.shape[2]), return_sequences=True))\n",
    "model.add(LSTM(32, activation='relu', return_sequences=False))\n",
    "model.add(Dropout(0.2))\n",
    "model.add(Dense(trainY.shape[1]))\n",
    "\n",
    "model.compile(optimizer='adam', loss='mse')\n",
    "model.summary()"
   ]
  },
  {
   "cell_type": "code",
   "execution_count": 11,
   "metadata": {},
   "outputs": [
    {
     "name": "stdout",
     "output_type": "stream",
     "text": [
      "Train on 940 samples, validate on 105 samples\n",
      "Epoch 1/5\n",
      "940/940 [==============================] - 20s 21ms/step - loss: 0.0338 - val_loss: 0.0135\n",
      "Epoch 2/5\n",
      "940/940 [==============================] - 16s 17ms/step - loss: 0.0199 - val_loss: 0.0092\n",
      "Epoch 3/5\n",
      "940/940 [==============================] - 16s 16ms/step - loss: 0.0178 - val_loss: 0.0059\n",
      "Epoch 4/5\n",
      "940/940 [==============================] - 15s 16ms/step - loss: 0.0160 - val_loss: 0.0059\n",
      "Epoch 5/5\n",
      "940/940 [==============================] - 17s 18ms/step - loss: 0.0146 - val_loss: 0.0057\n"
     ]
    }
   ],
   "source": [
    "weather_model = model.fit(trainX, trainY, epochs=5, batch_size=8, validation_split=0.1, verbose=1)"
   ]
  },
  {
   "cell_type": "markdown",
   "metadata": {},
   "source": [
    "Plot the graph of the training loss and the validation loss for the developed model."
   ]
  },
  {
   "cell_type": "code",
   "execution_count": 12,
   "metadata": {},
   "outputs": [
    {
     "data": {
      "image/png": "[encoded data removed]",
      "text/plain": [
       "<Figure size 1440x576 with 1 Axes>"
      ]
     },
     "metadata": {
      "needs_background": "light"
     },
     "output_type": "display_data"
    }
   ],
   "source": [
    "plt.figure(figsize=(20, 8))\n",
    "\n",
    "plt.plot(weather_model.history['loss'], label='Training loss')\n",
    "plt.plot(weather_model.history['val_loss'], label='Validation loss')\n",
    "\n",
    "plt.title('Loss Graph', fontsize=18)\n",
    "plt.xlabel('Epoch', fontsize=14)\n",
    "plt.ylabel('Loss', fontsize=14)\n",
    "plt.legend()\n",
    "\n",
    "plt.xlim(0, len(weather_model.history['val_loss']))\n",
    "\n",
    "plt.tight_layout()\n",
    "plt.grid(True)"
   ]
  },
  {
   "cell_type": "code",
   "execution_count": 13,
   "metadata": {},
   "outputs": [
    {
     "data": {
      "text/plain": [
       "(0.014613017223854649, 0.005683959989498059)"
      ]
     },
     "execution_count": 13,
     "metadata": {},
     "output_type": "execute_result"
    }
   ],
   "source": [
    "min(weather_model.history['loss']), min(weather_model.history['val_loss'])"
   ]
  },
  {
   "cell_type": "markdown",
   "metadata": {},
   "source": [
    "### Model Accuracy"
   ]
  },
  {
   "cell_type": "code",
   "execution_count": 14,
   "metadata": {},
   "outputs": [],
   "source": [
    "def model_accuracy(model, testX, testY, view = False):\n",
    "    \n",
    "    y_pred = model.predict(testX)\n",
    "    y_true = testY\n",
    "    \n",
    "    rmse = mean_squared_error(y_true, y_pred)\n",
    "    r2score = r2_score(y_true, y_pred)\n",
    "    \n",
    "    if view:\n",
    "        print(f'Root mean square error: {rmse}')\n",
    "        print(f'R2 Score: {r2score}')\n",
    "        \n",
    "    return rmse, r2score    "
   ]
  },
  {
   "cell_type": "code",
   "execution_count": 15,
   "metadata": {},
   "outputs": [
    {
     "name": "stdout",
     "output_type": "stream",
     "text": [
      "Root mean square error: 0.007248462620430649\n",
      "R2 Score: 0.16190548180363873\n"
     ]
    },
    {
     "data": {
      "text/plain": [
       "(0.007248462620430649, 0.16190548180363873)"
      ]
     },
     "execution_count": 15,
     "metadata": {},
     "output_type": "execute_result"
    }
   ],
   "source": [
    "model_accuracy(model, testX, testY, True)"
   ]
  },
  {
   "cell_type": "markdown",
   "metadata": {},
   "source": [
    "### Forecasting"
   ]
  },
  {
   "cell_type": "code",
   "execution_count": 16,
   "metadata": {},
   "outputs": [],
   "source": [
    "n_future = 30\n",
    "forecast_dates = pd.date_range(list(date_series)[-n_future], periods=n_future, freq='1d')\n",
    "\n",
    "forecast = model.predict(testX)\n",
    "\n",
    "forecast_copies = np.repeat(forecast, data_array.shape[1], axis=1)\n",
    "\n",
    "y_pred = scaler.inverse_transform(forecast_copies)[:, -1]"
   ]
  },
  {
   "cell_type": "code",
   "execution_count": 17,
   "metadata": {},
   "outputs": [
    {
     "name": "stderr",
     "output_type": "stream",
     "text": [
      "C:\\Users\\Olanrewaju Farooq\\.conda\\envs\\envTensorFlow\\lib\\site-packages\\seaborn\\_decorators.py:43: FutureWarning: Pass the following variables as keyword args: x, y. From version 0.12, the only valid positional argument will be `data`, and passing other arguments without an explicit keyword will result in an error or misinterpretation.\n",
      "  FutureWarning\n",
      "C:\\Users\\Olanrewaju Farooq\\.conda\\envs\\envTensorFlow\\lib\\site-packages\\seaborn\\_decorators.py:43: FutureWarning: Pass the following variables as keyword args: x, y. From version 0.12, the only valid positional argument will be `data`, and passing other arguments without an explicit keyword will result in an error or misinterpretation.\n",
      "  FutureWarning\n",
      "C:\\Users\\Olanrewaju Farooq\\.conda\\envs\\envTensorFlow\\lib\\site-packages\\seaborn\\_decorators.py:43: FutureWarning: Pass the following variables as keyword args: x, y. From version 0.12, the only valid positional argument will be `data`, and passing other arguments without an explicit keyword will result in an error or misinterpretation.\n",
      "  FutureWarning\n"
     ]
    },
    {
     "data": {
      "text/plain": [
       "<matplotlib.legend.Legend at 0x2dc1e6716a0>"
      ]
     },
     "execution_count": 17,
     "metadata": {},
     "output_type": "execute_result"
    },
    {
     "data": {
      "image/png": "[encoded data removed]",
      "text/plain": [
       "<Figure size 1440x576 with 1 Axes>"
      ]
     },
     "metadata": {
      "needs_background": "light"
     },
     "output_type": "display_data"
    }
   ],
   "source": [
    "train_df = pd.DataFrame({'Date':np.array(data_df['Date'][0:-n_future+1]), 'Mean Temperature':np.array(data_df['Mean Temperature'][0:-n_future+1])})\n",
    "test_df = pd.DataFrame({'Date':np.array(data_df['Date'][-n_future:]), 'Mean Temperature':np.array(data_df['Mean Temperature'][-n_future:])})\n",
    "predict_df = pd.DataFrame({'Date':np.array(forecast_dates), 'Mean Temperature':y_pred})\n",
    "\n",
    "train_df['Date'] = pd.to_datetime(train_df['Date'])\n",
    "test_df['Date'] = pd.to_datetime(test_df['Date'])\n",
    "predict_df['Date'] = pd.to_datetime(predict_df['Date'])\n",
    "\n",
    "train_df = train_df.loc[train_df['Date'] >= '2020-3-1']\n",
    "\n",
    "\n",
    "plt.figure(figsize=(20, 8))\n",
    "sb.lineplot(train_df['Date'], train_df['Mean Temperature'])\n",
    "sb.lineplot(test_df['Date'], test_df['Mean Temperature'])\n",
    "sb.lineplot(predict_df['Date'], predict_df['Mean Temperature'])\n",
    "\n",
    "plt.legend(['Training Data', 'Expected Plot', 'Forecast'])"
   ]
  },
  {
   "cell_type": "markdown",
   "metadata": {},
   "source": [
    "### Hyperparameters Tuning"
   ]
  },
  {
   "cell_type": "markdown",
   "metadata": {},
   "source": [
    "From the above graph, there is need for hyperparameter tuning to determine the best model to be used. \n",
    "\n",
    "We tune on the following parameters: \n",
    "1. Conv1D Filter (16, 32, 64)\n",
    "2. Bidirectional LSTM units (25, 50, 75, 100)\n",
    "3. Activation Function ('relu', 'tanh')\n",
    "4. Dropout (0.1, 0.15, 0.2, 0.25)\n",
    "5. Dense (of Fully-connected) Hidden Layer Units (100, 80, 64, 50, 32)\n",
    "6. Batch Size (1, 8, 16, 32)\n",
    "7. Validation Split (0.1, 0.15, 0.2)"
   ]
  },
  {
   "cell_type": "code",
   "execution_count": 19,
   "metadata": {},
   "outputs": [],
   "source": [
    "def plot_loss_graph(weather_model, filters, lstm_unit, activation, dropout, hidden_layers, size, split):\n",
    "    plt.figure(figsize=(20, 8))\n",
    "\n",
    "    plt.plot(weather_model.history['loss'], label='Training loss')\n",
    "    plt.plot(weather_model.history['val_loss'], label='Validation loss')\n",
    "\n",
    "    plt.title(f'LOSS GRAPH. \\n Filter: {filters} \\t LSTM Units: {lstm_unit} \\t Activation Function: {activation} \\t Dropouts: {dropout} \\t No of Hidden Fully Connected Layers: {hidden_layers} \\t Batch Size: {size} \\t Validation Split size: {split}', fontsize=18)\n",
    "    plt.xlabel('Epoch', fontsize=14)\n",
    "    plt.ylabel('Loss', fontsize=14)\n",
    "    plt.legend()\n",
    "\n",
    "    plt.xlim(0, len(weather_model.history['val_loss']))\n",
    "\n",
    "    plt.tight_layout()\n",
    "    plt.grid(True)"
   ]
  },
  {
   "cell_type": "code",
   "execution_count": 20,
   "metadata": {},
   "outputs": [],
   "source": [
    "def model_forecast(testX, data_df, date_Series, n_future = 30):\n",
    "    \n",
    "    forecast_dates = pd.date_range(list(date_series)[-n_future], periods=n_future, freq='1d')\n",
    "    \n",
    "    forecast = model.predict(testX)\n",
    "    forecast_copies = np.repeat(forecast, data_array.shape[1], axis=1)\n",
    "    y_pred = scaler.inverse_transform(forecast_copies)[:, -1]\n",
    "    \n",
    "    train_df = pd.DataFrame({'Date':np.array(data_df['Date'][0:-n_future+1]), 'Mean Temperature':np.array(data_df['Mean Temperature'][0:-n_future+1])})\n",
    "    test_df = pd.DataFrame({'Date':np.array(data_df['Date'][-n_future:]), 'Mean Temperature':np.array(data_df['Mean Temperature'][-n_future:])})\n",
    "    predict_df = pd.DataFrame({'Date':np.array(forecast_dates), 'Mean Temperature':y_pred})\n",
    "    \n",
    "    train_df['Date'] = pd.to_datetime(train_df['Date'])\n",
    "    test_df['Date'] = pd.to_datetime(test_df['Date'])\n",
    "    predict_df['Date'] = pd.to_datetime(predict_df['Date'])\n",
    "    \n",
    "    train_df = train_df.loc[train_df['Date'] >= '2020-3-1']\n",
    "    \n",
    "    \n",
    "    plt.figure(figsize=(20, 8))\n",
    "    \n",
    "    plt.title('Model Forecast Plot')\n",
    "    \n",
    "    sb.lineplot(train_df['Date'], train_df['Mean Temperature'])\n",
    "    sb.lineplot(test_df['Date'], test_df['Mean Temperature'])\n",
    "    sb.lineplot(predict_df['Date'], predict_df['Mean Temperature'])\n",
    "    \n",
    "    plt.legend(['Training Data', 'Expected Plot', 'Forecast'])"
   ]
  },
  {
   "cell_type": "code",
   "execution_count": null,
   "metadata": {},
   "outputs": [
    {
     "name": "stdout",
     "output_type": "stream",
     "text": [
      "LSTM Model For:16 LSTM Units:25 Activation Function:relu Dropouts:0.1 No of Hidden Fully Connected Layers:100 Batch Size:1 Validation Split size:0.1\n",
      "ERROR! Session/line number was not unique in database. History logging moved to new session 174\n",
      "Model: \"sequential_5\"\n",
      "_________________________________________________________________\n",
      "Layer (type)                 Output Shape              Param #   \n",
      "=================================================================\n",
      "conv1d_5 (Conv1D)            (None, 21, 16)            256       \n",
      "_________________________________________________________________\n",
      "bidirectional_13 (Bidirectio (None, 21, 50)            8400      \n",
      "_________________________________________________________________\n",
      "bidirectional_14 (Bidirectio (None, 21, 50)            15200     \n",
      "_________________________________________________________________\n",
      "bidirectional_15 (Bidirectio (None, 50)                15200     \n",
      "_________________________________________________________________\n",
      "dropout_11 (Dropout)         (None, 50)                0         \n",
      "_________________________________________________________________\n",
      "dense_11 (Dense)             (None, 100)               5100      \n",
      "_________________________________________________________________\n",
      "dropout_12 (Dropout)         (None, 100)               0         \n",
      "_________________________________________________________________\n",
      "dense_12 (Dense)             (None, 50)                5050      \n",
      "_________________________________________________________________\n",
      "dropout_13 (Dropout)         (None, 50)                0         \n",
      "_________________________________________________________________\n",
      "dense_13 (Dense)             (None, 1)                 51        \n",
      "=================================================================\n",
      "Total params: 49,257\n",
      "Trainable params: 49,257\n",
      "Non-trainable params: 0\n",
      "_________________________________________________________________\n",
      "Train on 940 samples, validate on 105 samples\n",
      "Epoch 1/15\n",
      "940/940 [==============================] - 74s 79ms/step - loss: 0.0220 - val_loss: 0.0074\n",
      "Epoch 2/15\n",
      "940/940 [==============================] - 79s 84ms/step - loss: 0.0146 - val_loss: 0.0098\n",
      "Epoch 3/15\n",
      "166/940 [====>.........................] - ETA: 1:19 - loss: 0.0124"
     ]
    }
   ],
   "source": [
    "list_filter = []\n",
    "list_lstm_unit = []\n",
    "list_activation = []\n",
    "list_dropout = []\n",
    "list_hidden_layers = []\n",
    "list_size = []\n",
    "list_split = []\n",
    "\n",
    "list_model = []\n",
    "list_weather_model = []\n",
    "\n",
    "list_rmse = []\n",
    "list_r2score = []\n",
    "list_train_loss = []\n",
    "list_val_loss = []\n",
    "\n",
    "for filters in [16, 32]:\n",
    "    for lstm_unit in [25, 50, 100]:\n",
    "        for activation in ['relu', 'tanh']:\n",
    "            for dropout in [0.1, 0.2, .3]:\n",
    "                for hidden_layers in [100, 64, 50, 32]:\n",
    "                    for size in [1, 8, 16, 32]:\n",
    "                        for split in [0.1, 0.2, 0.3]:\n",
    "                            \n",
    "                            hidden_layers_ = int(hidden_layers/2)\n",
    "                            \n",
    "                            print(f\"LSTM Model For:{filters} LSTM Units:{lstm_unit} Activation Function:{activation} Dropouts:{dropout} No of Hidden Fully Connected Layers:{hidden_layers} Batch Size:{size} Validation Split size:{split}\")\n",
    "                            \n",
    "                            model = Sequential()\n",
    "                            model.add(Conv1D(filters=filters, kernel_size=3, strides=1, padding=\"causal\", activation=\"relu\", input_shape=(trainX.shape[1], trainX.shape[2])))\n",
    "                            model.add(Bidirectional(LSTM(lstm_unit, activation=activation, return_sequences=True)))\n",
    "                            model.add(Bidirectional(LSTM(lstm_unit, activation=activation, return_sequences=True)))\n",
    "                            model.add(Bidirectional(LSTM(lstm_unit, activation=activation, return_sequences=False)))\n",
    "                            model.add(Dropout(dropout))\n",
    "                            model.add(Dense(hidden_layers))\n",
    "                            model.add(Dropout(dropout))\n",
    "                            model.add(Dense(hidden_layers_))\n",
    "                            model.add(Dropout(dropout))\n",
    "                            model.add(Dense(trainY.shape[1]))\n",
    "                            model.compile(optimizer='adam', loss='mse')\n",
    "                            model.summary()\n",
    "                            \n",
    "                            weather_model = model.fit(trainX, trainY, epochs=15, batch_size=size, validation_split=split, verbose=1)\n",
    "                            \n",
    "                            rmse, r2score = model_accuracy(model, testX, testY, True)\n",
    "                            plot_loss_graph(weather_model, filters, lstm_unit, activation, dropout, hidden_layers, size, split)\n",
    "                            model_forecast(testX, data_df, date_Series, n_future = 30)                    \n",
    "                            \n",
    "                            train_loss = min(weather_model.history['loss'])\n",
    "                            val_loss = min(weather_model.history['val_loss'])\n",
    "                            \n",
    "                            list_filter.append(filters)\n",
    "                            list_lstm_unit.append(lstm_unit)\n",
    "                            list_activation.append(activation)\n",
    "                            list_dropout.append(dropout)\n",
    "                            list_hidden_layers.append(hidden_layers)\n",
    "                            list_size.append(size)\n",
    "                            list_split.append(split)\n",
    "                            \n",
    "                            list_model.append(model)\n",
    "                            list_weather_model.append(weather_model)\n",
    "                            \n",
    "                            list_rmse.append(rmse)\n",
    "                            list_r2score.append(r2score)\n",
    "                            list_eval_train_los.append(train_loss)\n",
    "                            list_eval_train_loss.append(val_loss)\n",
    "                            \n",
    "                            print('\\n\\n\\n\\n\\n\\n\\n')\n",
    "\n",
    "\n",
    "hyperparameter_df = pd.DataFrame({'Convolution Filter':list_filter, 'LSTM Unit':list_lstm_unit, 'LSTM Activation Function':list_activation,\n",
    "                                 'Dropout':list_dropout, 'Fully Connected Layers':list_hidden_layers, 'Batch Size':list_size, 'Validation Split':list_split,\n",
    "                                 'Mean Square Error':list_rmse, 'R2 Score':list_r2score, 'Minimum Training Loss':list_train_loss, 'Minimum Validation Loss':list_val_loss})\n",
    "\n",
    "hyperparameter_df.head()"
   ]
  },
  {
   "cell_type": "code",
   "execution_count": null,
   "metadata": {},
   "outputs": [],
   "source": []
  }
 ],
 "metadata": {
  "kernelspec": {
   "display_name": "Python 3",
   "language": "python",
   "name": "python3"
  },
  "language_info": {
   "codemirror_mode": {
    "name": "ipython",
    "version": 3
   },
   "file_extension": ".py",
   "mimetype": "text/x-python",
   "name": "python",
   "nbconvert_exporter": "python",
   "pygments_lexer": "ipython3",
   "version": "3.6.13"
  }
 },
 "nbformat": 4,
 "nbformat_minor": 4
}
