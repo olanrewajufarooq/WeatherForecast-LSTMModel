{
 "cells": [
  {
   "cell_type": "markdown",
   "metadata": {},
   "source": [
    "# Weather Forecast - Modelling"
   ]
  },
  {
   "cell_type": "markdown",
   "metadata": {},
   "source": [
    "## Import Data for Modelling"
   ]
  },
  {
   "cell_type": "markdown",
   "metadata": {},
   "source": [
    "Import Libraries"
   ]
  },
  {
   "cell_type": "code",
   "execution_count": 1,
   "metadata": {},
   "outputs": [],
   "source": [
    "import numpy as np\n",
    "import pandas as pd"
   ]
  },
  {
   "cell_type": "markdown",
   "metadata": {},
   "source": [
    "Importing Data"
   ]
  },
  {
   "cell_type": "code",
   "execution_count": 2,
   "metadata": {
    "scrolled": true
   },
   "outputs": [
    {
     "data": {
      "text/html": [
       "<div>\n",
       "<style scoped>\n",
       "    .dataframe tbody tr th:only-of-type {\n",
       "        vertical-align: middle;\n",
       "    }\n",
       "\n",
       "    .dataframe tbody tr th {\n",
       "        vertical-align: top;\n",
       "    }\n",
       "\n",
       "    .dataframe thead th {\n",
       "        text-align: right;\n",
       "    }\n",
       "</style>\n",
       "<table border=\"1\" class=\"dataframe\">\n",
       "  <thead>\n",
       "    <tr style=\"text-align: right;\">\n",
       "      <th></th>\n",
       "      <th>Date</th>\n",
       "      <th>Atmospheric Pressure</th>\n",
       "      <th>Minimum Temperature</th>\n",
       "      <th>Maximum Temperature</th>\n",
       "      <th>Relative Humidity</th>\n",
       "      <th>Wind Speed</th>\n",
       "    </tr>\n",
       "  </thead>\n",
       "  <tbody>\n",
       "    <tr>\n",
       "      <th>0</th>\n",
       "      <td>2018-01-01</td>\n",
       "      <td>1019.5</td>\n",
       "      <td>16.3</td>\n",
       "      <td>26.1</td>\n",
       "      <td>25.333333</td>\n",
       "      <td>9.666667</td>\n",
       "    </tr>\n",
       "    <tr>\n",
       "      <th>1</th>\n",
       "      <td>2018-01-02</td>\n",
       "      <td>1019.6</td>\n",
       "      <td>16.1</td>\n",
       "      <td>27.4</td>\n",
       "      <td>27.583333</td>\n",
       "      <td>12.000000</td>\n",
       "    </tr>\n",
       "    <tr>\n",
       "      <th>2</th>\n",
       "      <td>2018-01-03</td>\n",
       "      <td>1019.9</td>\n",
       "      <td>15.7</td>\n",
       "      <td>27.2</td>\n",
       "      <td>24.416667</td>\n",
       "      <td>11.666667</td>\n",
       "    </tr>\n",
       "    <tr>\n",
       "      <th>3</th>\n",
       "      <td>2018-01-04</td>\n",
       "      <td>1021.4</td>\n",
       "      <td>16.0</td>\n",
       "      <td>29.0</td>\n",
       "      <td>27.166667</td>\n",
       "      <td>12.333333</td>\n",
       "    </tr>\n",
       "    <tr>\n",
       "      <th>4</th>\n",
       "      <td>2018-01-05</td>\n",
       "      <td>1021.2</td>\n",
       "      <td>14.2</td>\n",
       "      <td>26.9</td>\n",
       "      <td>29.916667</td>\n",
       "      <td>12.333333</td>\n",
       "    </tr>\n",
       "  </tbody>\n",
       "</table>\n",
       "</div>"
      ],
      "text/plain": [
       "         Date  Atmospheric Pressure  Minimum Temperature  Maximum Temperature  \\\n",
       "0  2018-01-01                1019.5                 16.3                 26.1   \n",
       "1  2018-01-02                1019.6                 16.1                 27.4   \n",
       "2  2018-01-03                1019.9                 15.7                 27.2   \n",
       "3  2018-01-04                1021.4                 16.0                 29.0   \n",
       "4  2018-01-05                1021.2                 14.2                 26.9   \n",
       "\n",
       "   Relative Humidity  Wind Speed  \n",
       "0          25.333333    9.666667  \n",
       "1          27.583333   12.000000  \n",
       "2          24.416667   11.666667  \n",
       "3          27.166667   12.333333  \n",
       "4          29.916667   12.333333  "
      ]
     },
     "execution_count": 2,
     "metadata": {},
     "output_type": "execute_result"
    }
   ],
   "source": [
    "filename = 'modelling_data.csv'\n",
    "data_df = pd.read_csv(filename)\n",
    "data_df.head()"
   ]
  },
  {
   "cell_type": "markdown",
   "metadata": {},
   "source": [
    "Computing the Mean Temperature"
   ]
  },
  {
   "cell_type": "code",
   "execution_count": 3,
   "metadata": {},
   "outputs": [
    {
     "data": {
      "text/html": [
       "<div>\n",
       "<style scoped>\n",
       "    .dataframe tbody tr th:only-of-type {\n",
       "        vertical-align: middle;\n",
       "    }\n",
       "\n",
       "    .dataframe tbody tr th {\n",
       "        vertical-align: top;\n",
       "    }\n",
       "\n",
       "    .dataframe thead th {\n",
       "        text-align: right;\n",
       "    }\n",
       "</style>\n",
       "<table border=\"1\" class=\"dataframe\">\n",
       "  <thead>\n",
       "    <tr style=\"text-align: right;\">\n",
       "      <th></th>\n",
       "      <th>Date</th>\n",
       "      <th>Atmospheric Pressure</th>\n",
       "      <th>Minimum Temperature</th>\n",
       "      <th>Maximum Temperature</th>\n",
       "      <th>Relative Humidity</th>\n",
       "      <th>Wind Speed</th>\n",
       "      <th>Mean Temperature</th>\n",
       "    </tr>\n",
       "  </thead>\n",
       "  <tbody>\n",
       "    <tr>\n",
       "      <th>0</th>\n",
       "      <td>2018-01-01</td>\n",
       "      <td>1019.5</td>\n",
       "      <td>16.3</td>\n",
       "      <td>26.1</td>\n",
       "      <td>25.333333</td>\n",
       "      <td>9.666667</td>\n",
       "      <td>21.20</td>\n",
       "    </tr>\n",
       "    <tr>\n",
       "      <th>1</th>\n",
       "      <td>2018-01-02</td>\n",
       "      <td>1019.6</td>\n",
       "      <td>16.1</td>\n",
       "      <td>27.4</td>\n",
       "      <td>27.583333</td>\n",
       "      <td>12.000000</td>\n",
       "      <td>21.75</td>\n",
       "    </tr>\n",
       "    <tr>\n",
       "      <th>2</th>\n",
       "      <td>2018-01-03</td>\n",
       "      <td>1019.9</td>\n",
       "      <td>15.7</td>\n",
       "      <td>27.2</td>\n",
       "      <td>24.416667</td>\n",
       "      <td>11.666667</td>\n",
       "      <td>21.45</td>\n",
       "    </tr>\n",
       "    <tr>\n",
       "      <th>3</th>\n",
       "      <td>2018-01-04</td>\n",
       "      <td>1021.4</td>\n",
       "      <td>16.0</td>\n",
       "      <td>29.0</td>\n",
       "      <td>27.166667</td>\n",
       "      <td>12.333333</td>\n",
       "      <td>22.50</td>\n",
       "    </tr>\n",
       "    <tr>\n",
       "      <th>4</th>\n",
       "      <td>2018-01-05</td>\n",
       "      <td>1021.2</td>\n",
       "      <td>14.2</td>\n",
       "      <td>26.9</td>\n",
       "      <td>29.916667</td>\n",
       "      <td>12.333333</td>\n",
       "      <td>20.55</td>\n",
       "    </tr>\n",
       "  </tbody>\n",
       "</table>\n",
       "</div>"
      ],
      "text/plain": [
       "         Date  Atmospheric Pressure  Minimum Temperature  Maximum Temperature  \\\n",
       "0  2018-01-01                1019.5                 16.3                 26.1   \n",
       "1  2018-01-02                1019.6                 16.1                 27.4   \n",
       "2  2018-01-03                1019.9                 15.7                 27.2   \n",
       "3  2018-01-04                1021.4                 16.0                 29.0   \n",
       "4  2018-01-05                1021.2                 14.2                 26.9   \n",
       "\n",
       "   Relative Humidity  Wind Speed  Mean Temperature  \n",
       "0          25.333333    9.666667             21.20  \n",
       "1          27.583333   12.000000             21.75  \n",
       "2          24.416667   11.666667             21.45  \n",
       "3          27.166667   12.333333             22.50  \n",
       "4          29.916667   12.333333             20.55  "
      ]
     },
     "execution_count": 3,
     "metadata": {},
     "output_type": "execute_result"
    }
   ],
   "source": [
    "data_df['Mean Temperature'] = pd.Series(np.mean([data_df['Minimum Temperature'], data_df['Maximum Temperature']], axis=0))\n",
    "data_df.head()"
   ]
  },
  {
   "cell_type": "code",
   "execution_count": 4,
   "metadata": {},
   "outputs": [
    {
     "data": {
      "text/plain": [
       "(1096, 7)"
      ]
     },
     "execution_count": 4,
     "metadata": {},
     "output_type": "execute_result"
    }
   ],
   "source": [
    "data_df.shape"
   ]
  },
  {
   "cell_type": "markdown",
   "metadata": {
    "tags": []
   },
   "source": [
    "## LSTM - Weather Forecasting"
   ]
  },
  {
   "cell_type": "code",
   "execution_count": null,
   "metadata": {},
   "outputs": [
    {
     "name": "stderr",
     "output_type": "stream",
     "text": [
      "Using TensorFlow backend.\n"
     ]
    }
   ],
   "source": [
    "from keras.models import Sequential\n",
    "from keras.layers import Dense, LSTM, Flatten, Dropout, BatchNormalization, Bidirectional, Conv1D\n",
    "\n",
    "from sklearn.preprocessing import MinMaxScaler, StandardScaler, normalize\n",
    "from sklearn.metrics import mean_squared_error\n",
    "\n",
    "from keras.layers import ConvLSTM2D"
   ]
  },
  {
   "cell_type": "markdown",
   "metadata": {},
   "source": [
    "Convert DataFrame to Numpy Array"
   ]
  },
  {
   "cell_type": "code",
   "execution_count": null,
   "metadata": {},
   "outputs": [],
   "source": [
    "date_series = data_df['Date']\n",
    "data_array = data_df.iloc[:, 1:].values\n",
    "data_array.shape, data_array.dtype, date_series.shape"
   ]
  },
  {
   "cell_type": "markdown",
   "metadata": {},
   "source": [
    "Scaling of Dataset to avoid gradient explosion. \n",
    "\n",
    "__N.B:__ One importance of fit-transform is that the scaling can easily be inverted."
   ]
  },
  {
   "cell_type": "code",
   "execution_count": null,
   "metadata": {},
   "outputs": [],
   "source": [
    "scaler = MinMaxScaler(feature_range=(0, 1))\n",
    "scaler = scaler.fit(data_array)\n",
    "data_array = scaler.transform(data_array)\n",
    "data_array.shape, data_array.dtype"
   ]
  },
  {
   "cell_type": "markdown",
   "metadata": {},
   "source": [
    "Preparing the training and testing data for LSTM"
   ]
  },
  {
   "cell_type": "code",
   "execution_count": null,
   "metadata": {},
   "outputs": [],
   "source": [
    "def train_test_data_for_lstm(data, n_past, n_future=1, view_shape=False):\n",
    "    \"\"\"\n",
    "    Function to determine the training and testing data for a recurrent neural network modelling.\n",
    "    \n",
    "    Input:\n",
    "    data - numpy array of the data to be modelled\n",
    "    n-past - the number of days in the past to be utilised for modelling\n",
    "    n-future - the date in the future to be predicted.\n",
    "    \n",
    "    Output:\n",
    "    trainX - the training features\n",
    "    trainY - the training targets\n",
    "    \"\"\"\n",
    "    \n",
    "    # Define list to store training and testing datasets\n",
    "    X = []\n",
    "    Y = []\n",
    "    \n",
    "    for i in range(n_past, len(data) - n_future +1):\n",
    "        X.append(data[i - n_past:i, 0:data.shape[1] - 1])\n",
    "        Y.append(data[i + n_future - 1:i + n_future, data.shape[1] - 1])\n",
    "\n",
    "    X, Y = np.array(X), np.array(Y)\n",
    "    \n",
    "    if view_shape:\n",
    "        print('trainX shape == {}.'.format(X.shape))\n",
    "        print('trainY shape == {}.'.format(Y.shape))\n",
    "        \n",
    "    return X, Y   "
   ]
  },
  {
   "cell_type": "code",
   "execution_count": null,
   "metadata": {},
   "outputs": [],
   "source": [
    "trainX, trainY = train_test_data_for_lstm(data_array, 28, 1, True)"
   ]
  },
  {
   "cell_type": "code",
   "execution_count": null,
   "metadata": {},
   "outputs": [],
   "source": [
    "model = Sequential()\n",
    "model.add(LSTM(64, activation='relu', input_shape=(trainX.shape[1], trainX.shape[2]), return_sequences=True))\n",
    "model.add(LSTM(32, activation='relu', return_sequences=False))\n",
    "model.add(Dropout(0.2))\n",
    "model.add(Dense(trainY.shape[1]))\n",
    "\n",
    "model.compile(optimizer='adam', loss='mse')\n",
    "model.summary()"
   ]
  },
  {
   "cell_type": "code",
   "execution_count": null,
   "metadata": {},
   "outputs": [],
   "source": [
    "weather_model = model.fit(trainX, trainY, epochs=5, batch_size=16, validation_split=0.1, verbose=1)"
   ]
  },
  {
   "cell_type": "markdown",
   "metadata": {},
   "source": [
    "Plot the graph of the training loss and the validation loss for the developed model."
   ]
  },
  {
   "cell_type": "code",
   "execution_count": null,
   "metadata": {},
   "outputs": [],
   "source": [
    "import seaborn as sb"
   ]
  },
  {
   "cell_type": "code",
   "execution_count": null,
   "metadata": {},
   "outputs": [],
   "source": []
  }
 ],
 "metadata": {
  "kernelspec": {
   "display_name": "Python 3",
   "language": "python",
   "name": "python3"
  },
  "language_info": {
   "codemirror_mode": {
    "name": "ipython",
    "version": 3
   },
   "file_extension": ".py",
   "mimetype": "text/x-python",
   "name": "python",
   "nbconvert_exporter": "python",
   "pygments_lexer": "ipython3",
   "version": "3.6.13"
  }
 },
 "nbformat": 4,
 "nbformat_minor": 4
}
